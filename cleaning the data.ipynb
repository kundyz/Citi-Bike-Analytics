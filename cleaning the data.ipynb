{
 "cells": [
  {
   "cell_type": "code",
   "execution_count": 25,
   "metadata": {},
   "outputs": [],
   "source": [
    "import pandas as pd\n",
    "import os\n",
    "import glob"
   ]
  },
  {
   "cell_type": "code",
   "execution_count": 44,
   "metadata": {},
   "outputs": [],
   "source": [
    "# csvfiles = glob.glob('./citibike-tripdata/*.csv')\n",
    "csvfiles = glob.glob('./chunk*.csv')\n",
    "data_list = list()\n",
    "\n",
    "for filename in csvfiles:\n",
    "    data = pd.read_csv(filename)\n",
    "    data_list.append(data)\n",
    "\n",
    "full_data = pd.concat(data_list)\n",
    "full_data.rename(columns = {'tripduration': 'Trip Duration', 'starttime': 'Start Time', \n",
    "                            'stoptime': 'Stop Time', 'gender': 'Gender', \"usertype\": \"User Type\",\n",
    "                            'bikeid': 'Bike ID', 'birth year': 'Birth Year', 'start station id': 'Start Station ID',\n",
    "                            'start station name': 'Start Station Name', \n",
    "                            'start station latitude': 'Start Station Latitude',\n",
    "                            'start station longitude': 'Start Station Longitude', 'end station id': 'End Station ID', \n",
    "                            'end station name': 'End Station Name', 'end station latitude': 'End Station Latitude',\n",
    "                            'end station longitude': 'End Station Longitude'}, inplace=True)\n",
    "full_data.to_csv('biketrip.csv', sep=',', index=False)"
   ]
  },
  {
   "cell_type": "code",
   "execution_count": 43,
   "metadata": {},
   "outputs": [],
   "source": [
    "# for i, chunk in enumerate(pd.read_csv('biketrip.csv', chunksize=500000)):\n",
    "#     chunk.to_csv('chunk{}.csv'.format(i), index=False)"
   ]
  },
  {
   "cell_type": "code",
   "execution_count": null,
   "metadata": {},
   "outputs": [],
   "source": []
  }
 ],
 "metadata": {
  "kernelspec": {
   "display_name": "Python 3",
   "language": "python",
   "name": "python3"
  },
  "language_info": {
   "codemirror_mode": {
    "name": "ipython",
    "version": 3
   },
   "file_extension": ".py",
   "mimetype": "text/x-python",
   "name": "python",
   "nbconvert_exporter": "python",
   "pygments_lexer": "ipython3",
   "version": "3.7.3"
  }
 },
 "nbformat": 4,
 "nbformat_minor": 2
}
